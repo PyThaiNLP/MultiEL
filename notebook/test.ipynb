{
 "cells": [
  {
   "cell_type": "code",
   "execution_count": null,
   "id": "32bce715-1509-4235-92f3-879382860f0d",
   "metadata": {},
   "outputs": [],
   "source": [
    "!pip install multiel"
   ]
  },
  {
   "cell_type": "code",
   "execution_count": 1,
   "id": "2d2ac909-2472-4169-84d0-8f80dc78dd7f",
   "metadata": {
    "tags": []
   },
   "outputs": [],
   "source": [
    "# import os\n",
    "# os.environ[\"CUDA_VISIBLE_DEVICES\"] = \"7\""
   ]
  },
  {
   "cell_type": "code",
   "execution_count": 2,
   "id": "aa9eba20-f423-4027-bb06-5975efef85c8",
   "metadata": {
    "tags": []
   },
   "outputs": [],
   "source": [
    "from multiel import BELA"
   ]
  },
  {
   "cell_type": "code",
   "execution_count": null,
   "id": "40dd72be-a77d-4a6d-a9cf-f96e5bfec173",
   "metadata": {
    "tags": []
   },
   "outputs": [],
   "source": [
    "bela_run = BELA(device=\"cuda\")"
   ]
  },
  {
   "cell_type": "code",
   "execution_count": 4,
   "id": "ce1d330b-41fe-49c3-973d-c7e76ea8c7cb",
   "metadata": {
    "tags": []
   },
   "outputs": [
    {
     "name": "stdout",
     "output_type": "stream",
     "text": [
      "[{'offsets': [0], 'lengths': [12], 'entities': ['Q2108126'], 'md_scores': [0.22365164756774902], 'el_scores': [0.6967974901199341]}]\n"
     ]
    }
   ],
   "source": [
    "print(bela_run.process_batch([\"นายกประยุทธ์ประกาศจัดการเลือกตั้ง\"]))"
   ]
  },
  {
   "cell_type": "code",
   "execution_count": 5,
   "id": "e1c4acee-d960-45df-9509-ce108acf9d75",
   "metadata": {
    "tags": []
   },
   "outputs": [
    {
     "name": "stdout",
     "output_type": "stream",
     "text": [
      "[{'offsets': [21], 'lengths': [9], 'entities': ['Q869'], 'md_scores': [0.595373272895813], 'el_scores': [0.9001312255859375]}]\n"
     ]
    }
   ],
   "source": [
    "print(bela_run.process_batch([\"วันพ่อเป็นวันสำคัญของประเทศไทย\"]))"
   ]
  },
  {
   "cell_type": "code",
   "execution_count": null,
   "id": "09a2e48c-9f45-464b-b7ef-8dbee50d27ae",
   "metadata": {},
   "outputs": [],
   "source": []
  }
 ],
 "metadata": {
  "kernelspec": {
   "display_name": "Python 3 (ipykernel)",
   "language": "python",
   "name": "python3"
  },
  "language_info": {
   "codemirror_mode": {
    "name": "ipython",
    "version": 3
   },
   "file_extension": ".py",
   "mimetype": "text/x-python",
   "name": "python",
   "nbconvert_exporter": "python",
   "pygments_lexer": "ipython3",
   "version": "3.8.10"
  }
 },
 "nbformat": 4,
 "nbformat_minor": 5
}
