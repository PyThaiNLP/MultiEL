{
 "cells": [
  {
   "cell_type": "code",
   "execution_count": null,
   "id": "32bce715-1509-4235-92f3-879382860f0d",
   "metadata": {},
   "outputs": [],
   "source": [
    "!pip install multiel"
   ]
  },
  {
   "cell_type": "code",
   "execution_count": 1,
   "id": "2d2ac909-2472-4169-84d0-8f80dc78dd7f",
   "metadata": {
    "tags": []
   },
   "outputs": [],
   "source": [
    "# import os\n",
    "# os.environ[\"CUDA_VISIBLE_DEVICES\"] = \"7\""
   ]
  },
  {
   "cell_type": "code",
   "execution_count": 2,
   "id": "aa9eba20-f423-4027-bb06-5975efef85c8",
   "metadata": {
    "tags": []
   },
   "outputs": [],
   "source": [
    "from multiel import BELA"
   ]
  },
  {
   "cell_type": "code",
   "execution_count": null,
   "id": "40dd72be-a77d-4a6d-a9cf-f96e5bfec173",
   "metadata": {
    "tags": []
   },
   "outputs": [],
   "source": [
    "bela_run = BELA(device=\"cuda\")"
   ]
  },
  {
   "cell_type": "code",
   "execution_count": 18,
   "id": "e1c4acee-d960-45df-9509-ce108acf9d75",
   "metadata": {
    "tags": []
   },
   "outputs": [
    {
     "name": "stdout",
     "output_type": "stream",
     "text": [
      "[{'offsets': [9, 16], 'lengths': [3, 5], 'entities': ['Q484876', 'Q312'], 'md_scores': [0.24852867424488068, 0.7043067216873169], 'el_scores': [0.48497316241264343, 0.9504457712173462]}]\n"
     ]
    }
   ],
   "source": [
    "print(bela_run.process_batch([\"Jobs was CEO of Apple\"]))"
   ]
  },
  {
   "cell_type": "code",
   "execution_count": 19,
   "id": "09a2e48c-9f45-464b-b7ef-8dbee50d27ae",
   "metadata": {
    "tags": []
   },
   "outputs": [
    {
     "name": "stdout",
     "output_type": "stream",
     "text": [
      "[{'offsets': [6, 6, 11], 'lengths': [5, 8, 3], 'entities': ['Q312', 'Q312', 'Q484876'], 'md_scores': [0.8206272721290588, 0.2937866449356079, 0.27033868432044983], 'el_scores': [0.9398021101951599, 0.0239552054554224, 0.4219340682029724]}]\n"
     ]
    }
   ],
   "source": [
    "print(bela_run.process_batch([\"ジョブズ氏はアップルのCEOだった\"]))"
   ]
  },
  {
   "cell_type": "code",
   "execution_count": 20,
   "id": "d115ae33-cd6a-401d-bc84-dab5fc69b5e9",
   "metadata": {
    "tags": []
   },
   "outputs": [
    {
     "name": "stdout",
     "output_type": "stream",
     "text": [
      "[{'offsets': [13, 21], 'lengths': [3, 5], 'entities': ['Q484876', 'Q312'], 'md_scores': [0.4644337594509125, 0.7975106835365295], 'el_scores': [0.6950674653053284, 0.9626906514167786]}]\n"
     ]
    }
   ],
   "source": [
    "print(bela_run.process_batch([\"Jobs war der CEO von Apple\"]))"
   ]
  },
  {
   "cell_type": "code",
   "execution_count": 21,
   "id": "2fbdec9d-aaa6-4cc2-b6e4-64a01c8f7a1f",
   "metadata": {
    "tags": []
   },
   "outputs": [
    {
     "name": "stdout",
     "output_type": "stream",
     "text": [
      "[{'offsets': [6, 15], 'lengths': [5, 4], 'entities': ['Q312', 'Q484876'], 'md_scores': [0.5419769883155823, 0.20518577098846436], 'el_scores': [0.8974292874336243, 0.3540962338447571]}]\n"
     ]
    }
   ],
   "source": [
    "print(bela_run.process_batch([\"जॉब्स एप्पल के सीईओ थे\"]))"
   ]
  },
  {
   "cell_type": "code",
   "execution_count": 22,
   "id": "ce1d330b-41fe-49c3-973d-c7e76ea8c7cb",
   "metadata": {
    "tags": []
   },
   "outputs": [
    {
     "name": "stdout",
     "output_type": "stream",
     "text": [
      "[{'offsets': [11, 23], 'lengths': [6, 7], 'entities': ['Q484876', 'Q312'], 'md_scores': [0.30301809310913086, 0.6399497389793396], 'el_scores': [0.7142490744590759, 0.8657019734382629]}]\n"
     ]
    }
   ],
   "source": [
    "print(bela_run.process_batch([\"จ๊อบเคยเป็นซีอีโอบริษัทแอปเปิล\"]))"
   ]
  },
  {
   "cell_type": "code",
   "execution_count": null,
   "id": "ee17af71-3291-4b98-b58c-c57a754cf74b",
   "metadata": {},
   "outputs": [],
   "source": []
  }
 ],
 "metadata": {
  "kernelspec": {
   "display_name": "Python 3 (ipykernel)",
   "language": "python",
   "name": "python3"
  },
  "language_info": {
   "codemirror_mode": {
    "name": "ipython",
    "version": 3
   },
   "file_extension": ".py",
   "mimetype": "text/x-python",
   "name": "python",
   "nbconvert_exporter": "python",
   "pygments_lexer": "ipython3",
   "version": "3.8.10"
  }
 },
 "nbformat": 4,
 "nbformat_minor": 5
}
